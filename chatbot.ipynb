{
 "cells": [
  {
   "cell_type": "code",
   "execution_count": null,
   "id": "e4769643",
   "metadata": {},
   "outputs": [],
   "source": [
    "import faiss\n",
    "import json\n",
    "import numpy as np\n",
    "import os\n",
    "\n",
    "def load_project(path=\"model2\"):\n",
    "    index = faiss.read_index(os.path.join(path, \"index_faiss.bin\"))\n",
    "    \n",
    "    with open(os.path.join(path, \"documents.json\"), \"r\", encoding=\"utf-8\") as f:\n",
    "        docs = json.load(f)\n",
    "    \n",
    "    with open(os.path.join(path, \"meta.json\"), \"r\", encoding=\"utf-8\") as f:\n",
    "        meta = json.load(f)\n",
    "    \n",
    "    model_name = meta.get(\"model\", None)\n",
    "\n",
    "    print(f\"✅ Project loaded from folder: {path}\")\n",
    "    return index, docs, model_name\n"
   ]
  },
  {
   "cell_type": "code",
   "execution_count": 152,
   "id": "51f6bfef",
   "metadata": {},
   "outputs": [],
   "source": [
    "# Function to load the secrets from the local file\n",
    "def load_secrets(file_path):\n",
    "    with open(file_path, 'r') as file:\n",
    "        return json.load(file)\n",
    "secrets = load_secrets('secrets.json')\n",
    "\n",
    "chatMistralAIKey = secrets['CHAT_MISTRAL_AI_KEY']"
   ]
  },
  {
   "cell_type": "code",
   "execution_count": 136,
   "id": "1acc715b",
   "metadata": {},
   "outputs": [
    {
     "name": "stdout",
     "output_type": "stream",
     "text": [
      "✅ Project loaded from folder: model2\n"
     ]
    }
   ],
   "source": [
    "index, docs, model_name = load_project()"
   ]
  },
  {
   "cell_type": "code",
   "execution_count": 137,
   "id": "f1cdde67",
   "metadata": {},
   "outputs": [
    {
     "data": {
      "text/plain": [
       "{'titre': \"Explorez les rues de Collonges-la-Rouge accompagnés d'un guide !\",\n",
       " 'description': \"Laissez-vous conter l’histoire et les légendes surprenantes de Collonges-la-Rouge au cours d'une visite guidée gratuite dans les ruelles de la ville.\",\n",
       " 'longue description': \"Laissez-vous conter l’histoire et les légendes surprenantes de Collonges-la-Rouge au cours d'une visite guidée gratuite dans les ruelles de la ville.\",\n",
       " 'adresse': 'Office de Tourisme Vallée de la Dordogne, Collonges la Rouge, 1274 Route de Brive, 19500 Collonges-la-Rouge',\n",
       " 'telephone': '05 65 33 22 00',\n",
       " 'site Web': 'https://www.vallee-dordogne.com/',\n",
       " 'dates': [{'begin': '2024-09-22 10:30:00+02:00',\n",
       "   'end': '2024-09-22 12:00:00+02:00'},\n",
       "  {'begin': '2024-09-22 15:00:00+02:00', 'end': '2024-09-22 16:30:00+02:00'}],\n",
       " 'dates affichage': ['dimanche 22 septembre 2024, 10:30 – 12:00',\n",
       "  'dimanche 22 septembre 2024, 15:00 – 16:30'],\n",
       " 'prix': \"Gratuit. Sans réservation. Départ de l'office de Tourisme à 10h30 et 15h le dimanche 22 Septembre.\"}"
      ]
     },
     "execution_count": 137,
     "metadata": {},
     "output_type": "execute_result"
    }
   ],
   "source": [
    "docs[0]"
   ]
  },
  {
   "cell_type": "code",
   "execution_count": 138,
   "id": "83d88098",
   "metadata": {},
   "outputs": [],
   "source": [
    "def get_embedding_text(doc):\n",
    "    return \"\\n\".join([\n",
    "        doc.get(\"titre\", \"\"),\n",
    "        doc.get(\"description\", \"\"),\n",
    "        doc.get(\"longue description\", \"\"),\n",
    "        \"Adresse : \" + doc.get(\"adresse\", \"\"),\n",
    "        \"Dates : \" + \", \".join(doc.get(\"dates affichage\", [])),\n",
    "        \"Prix : \" + doc.get(\"prix\", \"\"),\n",
    "    ])\n"
   ]
  },
  {
   "cell_type": "code",
   "execution_count": 139,
   "id": "092ae148",
   "metadata": {},
   "outputs": [],
   "source": [
    "from langchain.schema import Document\n",
    "from langchain.vectorstores import FAISS\n",
    "from langchain.embeddings import HuggingFaceEmbeddings\n",
    "\n",
    "# Your embedding model name\n",
    "embedding_model = HuggingFaceEmbeddings(model_name=model_name)\n",
    "\n",
    "# Convert your dicts into LangChain Documents\n",
    "# We'll use the text you want to embed as `page_content` and everything else as metadata\n",
    "def convert_to_documents(dicts):\n",
    "    documents = []\n",
    "    for d in dicts:\n",
    "        content = get_embedding_text(d)  # Whatever text you used for embeddings\n",
    "        documents.append(Document(page_content=content, metadata=d))\n",
    "    return documents\n",
    "\n",
    "langchain_docs = convert_to_documents(docs[0:500])\n",
    "\n",
    "\n",
    "vectorstore = FAISS.from_documents(langchain_docs, embedding_model)\n",
    "retriever = vectorstore.as_retriever()\n"
   ]
  },
  {
   "cell_type": "code",
   "execution_count": null,
   "id": "9a265221",
   "metadata": {},
   "outputs": [
    {
     "name": "stdout",
     "output_type": "stream",
     "text": [
      "Saved faiss_index2/faiss_index_chunk_0\n",
      "Saved faiss_index2/faiss_index_chunk_1\n",
      "Saved faiss_index2/faiss_index_chunk_2\n",
      "Saved faiss_index2/faiss_index_chunk_3\n",
      "Saved faiss_index2/faiss_index_chunk_4\n",
      "Saved faiss_index2/faiss_index_chunk_5\n",
      "Saved faiss_index2/faiss_index_chunk_6\n",
      "Saved faiss_index2/faiss_index_chunk_7\n",
      "Saved faiss_index2/faiss_index_chunk_8\n",
      "Saved faiss_index2/faiss_index_chunk_9\n",
      "Saved faiss_index2/faiss_index_chunk_10\n",
      "Saved faiss_index2/faiss_index_chunk_11\n",
      "Saved faiss_index2/faiss_index_chunk_12\n",
      "Saved faiss_index2/faiss_index_chunk_13\n"
     ]
    }
   ],
   "source": [
    "import os\n",
    "from langchain.schema import Document\n",
    "from langchain.vectorstores import FAISS\n",
    "from langchain.embeddings import HuggingFaceEmbeddings\n",
    "\n",
    "embedding_model = HuggingFaceEmbeddings(model_name=model_name)\n",
    "chunk_size = 500\n",
    "\n",
    "# Convert your dicts into LangChain Documents\n",
    "def convert_to_documents(dicts):\n",
    "    documents = []\n",
    "    for d in dicts:\n",
    "        content = get_embedding_text(d)\n",
    "        documents.append(Document(page_content=content, metadata=d))\n",
    "    return documents\n",
    "\n",
    "# Process in chunks\n",
    "for i in range(0, len(docs), chunk_size):\n",
    "    chunk = docs[i:i+chunk_size]\n",
    "    langchain_docs = convert_to_documents(chunk)\n",
    "\n",
    "    # Build FAISS vectorstore for the chunk\n",
    "    vectorstore = FAISS.from_documents(langchain_docs, embedding_model)\n",
    "\n",
    "    # Save FAISS index and metadata\n",
    "    faiss_folder = f\"faiss_index3/faiss_index_chunk_{i//chunk_size}\"\n",
    "    vectorstore.save_local(faiss_folder)\n",
    "    print(f\"Saved {faiss_folder}\")\n"
   ]
  },
  {
   "cell_type": "code",
   "execution_count": 141,
   "id": "3a746e8e",
   "metadata": {},
   "outputs": [
    {
     "name": "stdout",
     "output_type": "stream",
     "text": [
      "Merged chunk 1\n",
      "Merged chunk 2\n",
      "Merged chunk 3\n",
      "Merged chunk 4\n",
      "Merged chunk 5\n",
      "Merged chunk 6\n",
      "Merged chunk 7\n",
      "Merged chunk 8\n",
      "Merged chunk 9\n",
      "Merged chunk 10\n",
      "Merged chunk 11\n",
      "Merged chunk 12\n",
      "Merged chunk 13\n"
     ]
    }
   ],
   "source": [
    "vectorstore = FAISS.load_local(\n",
    "    \"faiss_index/faiss_index_chunk_0\",\n",
    "    embedding_model,\n",
    "    allow_dangerous_deserialization=True\n",
    ")\n",
    "\n",
    "for i in range(1, 14):  # Adjust number of chunks\n",
    "    vs = FAISS.load_local(\n",
    "        f\"faiss_index/faiss_index_chunk_{i}\",\n",
    "        embedding_model,\n",
    "        allow_dangerous_deserialization=True\n",
    "    )\n",
    "    vectorstore.merge_from(vs)\n",
    "    print(f\"Merged chunk {i}\")\n",
    "\n",
    "# Optional: Save final merged vectorstore\n",
    "vectorstore.save_local(\"final_faiss_index\")\n"
   ]
  },
  {
   "cell_type": "code",
   "execution_count": 153,
   "id": "9771260d",
   "metadata": {},
   "outputs": [
    {
     "name": "stdout",
     "output_type": "stream",
     "text": [
      "ok\n"
     ]
    }
   ],
   "source": [
    "from langchain.prompts import PromptTemplate\n",
    "\n",
    "# Just \"context\", because the `stuff` chain will inject the documents\n",
    "prompt = PromptTemplate(\n",
    "    input_variables=[\"context\"],\n",
    "    template=\"\"\" {context}\"\"\"\n",
    ")\n",
    "\n",
    "\n",
    "from langchain.chains import RetrievalQA\n",
    "from langchain_mistralai.chat_models import ChatMistralAI\n",
    "\n",
    "llm = ChatMistralAI(api_key=chatMistralAIKey, model=\"mistral-medium\")  # or mistral-medium\n",
    "\n",
    "qa_chain = RetrievalQA.from_chain_type(\n",
    "    llm=llm,\n",
    "    chain_type=\"stuff\",  # This just concatenates documents\n",
    "    retriever=retriever,\n",
    "    chain_type_kwargs={\"prompt\": prompt}\n",
    ")\n",
    "\n",
    "print('ok')"
   ]
  },
  {
   "cell_type": "code",
   "execution_count": 143,
   "id": "382bac96",
   "metadata": {},
   "outputs": [
    {
     "data": {
      "text/plain": [
       "VectorStoreRetriever(tags=['FAISS', 'HuggingFaceEmbeddings'], vectorstore=<langchain_community.vectorstores.faiss.FAISS object at 0x000001BC455FDD20>, search_kwargs={})"
      ]
     },
     "execution_count": 143,
     "metadata": {},
     "output_type": "execute_result"
    }
   ],
   "source": [
    "retriever"
   ]
  },
  {
   "cell_type": "code",
   "execution_count": 144,
   "id": "7bfe278e",
   "metadata": {},
   "outputs": [
    {
     "name": "stdout",
     "output_type": "stream",
     "text": [
      "Voici un résumé structuré des événements mentionnés, avec les informations essentielles pour chaque activité :\n",
      "\n",
      "---\n",
      "\n",
      "### **1. Repair' Café (matériel électro)**\n",
      "**Description** : Atelier collaboratif pour apprendre à réparer des appareils électriques avec des électriciens bénévoles.\n",
      "**Adresse** : *Le Pied Allez Triez*, 20 avenue Marc Mercier, 24290 Montignac-Lascaux.\n",
      "**Date** : Samedi 19 octobre 2024, 14h00 – 17h00.\n",
      "**Prix** : Réservation obligatoire + adhésion à prix libre + participation consciente.\n",
      "\n",
      "---\n",
      "\n",
      "### **2. Biblis en folie 2024**\n",
      "**Description** : Journée culturelle autour du patrimoine local avec :\n",
      "- Expositions d'objets anciens et insolites.\n",
      "- Démonstrations de filage de laine.\n",
      "- Peintures de monuments et sites.\n",
      "- Balade contée sur les petits commerces historiques.\n",
      "**Adresse** : Bibliothèque municipale *Gabrielle et Jean Batista*, 25 route de l'Estuaire, 17120 Épargnes.\n",
      "**Date** : Samedi 28 septembre 2024, 10h00 – 18h00.\n",
      "**Prix** : Entrée libre.\n",
      "\n",
      "---\n",
      "\n",
      "### **3. Jeudi des enfants : Atelier autour du jonc**\n",
      "**Description** : Atelier créatif pour enfants (2h30) sur la fabrication de jouets traditionnels en jonc, encadré par Franck.\n",
      "**Adresse** : Site de Juillé, Écomusée, 86500 Saulgé.\n",
      "**Date** : Jeudi 22 août 2024, 14h30 – 17h00.\n",
      "**Prix** : 6€ par enfant (goûter inclus), sur réservation.\n",
      "\n",
      "---\n",
      "\n",
      "### **4. Découverte sensorielle de l'église Notre-Dame-de-l'Assomption**\n",
      "**Description** : Visite immersive de l'église utilisant les 5 sens :\n",
      "- Toucher (matériaux), vue (vitraux), ouïe (chants), goût (pain/vin), odorat (parfums bibliques).\n",
      "**Adresse** : Église Notre-Dame-de-l'Assomption, 47310 Sérignac-sur-Garonne.\n",
      "**Date** : Vendredi 28 juin 2024, 21h00 – 23h00.\n",
      "**Prix** : Non précisé (vérifier sur place).\n",
      "\n",
      "---\n",
      "\n",
      "**Conseils** :\n",
      "- Pour les ateliers payants ou sur réservation, contactez les organisateurs à l'avance.\n",
      "- Vérifiez les éventuelles mises à jour (horaires, annulations) sur les sites des associations concernées.\n",
      "\n",
      "Si vous souhaitez des détails supplémentaires sur un événement en particulier, n'hésitez pas à demander !\n"
     ]
    }
   ],
   "source": [
    "# Test a query\n",
    "query = \"Bègles\"\n",
    "response = qa_chain.invoke(query)\n",
    "print(response[\"result\"])"
   ]
  },
  {
   "cell_type": "code",
   "execution_count": 145,
   "id": "54059b6c",
   "metadata": {},
   "outputs": [
    {
     "name": "stdout",
     "output_type": "stream",
     "text": [
      "Voici un résumé structuré des événements viticoles à Bordeaux et ses environs, avec leurs dates, lieux et informations clés :\n",
      "\n",
      "---\n",
      "\n",
      "### **1. 26ème Salon des Vins des Vignerons Indépendants – Bordeaux**\n",
      "- **Dates** : 14–16 mars 2025\n",
      "- **Lieu** : Parc des Expositions de Bordeaux (Cours Jules Ladoumègue)\n",
      "- **Horaires** :\n",
      "  - Vendredi 14 mars : 10h–20h\n",
      "  - Samedi 15 mars : 10h–19h\n",
      "  - Dimanche 16 mars : 10h–18h\n",
      "- **Détails** :\n",
      "  - Salon majeur avec 30 000 visiteurs annuels.\n",
      "  - Dégustations, achats directs auprès des producteurs, concours de vins (médaille d’or, argent, bronze, \"coup de cœur\").\n",
      "- **Prix** : Billets en ligne [ici](https://www.vigneron-independant.com/26ème-salon-des-vins-des-vignerons-indépendants-bordeaux).\n",
      "\n",
      "---\n",
      "\n",
      "### **2. Portes Ouvertes de Pessac-Léognan**\n",
      "- **Dates** : 7–8 décembre 2024\n",
      "- **Lieu** : Pessac-Léognan (divers châteaux)\n",
      "- **Horaires** : 10h–18h (samedi et dimanche)\n",
      "- **Détails** :\n",
      "  - Découverte des châteaux et de leurs vins.\n",
      "  - Public varié (débutants et amateurs).\n",
      "  - Programme complet sur le site de l’événement.\n",
      "- **Prix** : Gratuit.\n",
      "\n",
      "---\n",
      "\n",
      "### **3. Vignerons en Fête – Maison des Vins de Cadillac**\n",
      "- **Dates** : 27 juin 2024 et 12 septembre 2024\n",
      "- **Lieu** : Maison des Vins de Cadillac (33410 Cadillac)\n",
      "- **Horaires** : 18h30–22h\n",
      "- **Détails** :\n",
      "  - Dégustations gratuites des vins des Premières Côtes de Bordeaux et Cadillac.\n",
      "  - Animations : \"Casino du Vin\" (dégustation à l’aveugle avec l’École du Vin de Bordeaux).\n",
      "  - Vente de vins et restauration sur place.\n",
      "- **Prix** : Entrée libre.\n",
      "\n",
      "---\n",
      "\n",
      "### **4. Atelier \"Vins Natures\" – La Cité du Vin**\n",
      "- **Dates** : 28 novembre 2024\n",
      "- **Lieu** : La Cité du Vin (Bordeaux, Quai de Bacalan)\n",
      "- **Horaires** : 18h30–19h30 ou 20h30–21h30\n",
      "- **Détails** :\n",
      "  - Atelier sur les vins naturels : origines, philosophie, dégustation de 3 vins.\n",
      "  - Engagement écologique de la Cité du Vin (labellisée NF Environnement).\n",
      "- **Prix** : Inscription en ligne requise.\n",
      "\n",
      "---\n",
      "\n",
      "### **Points communs et différences** :\n",
      "- **Public cible** :\n",
      "  - Salon des Vignerons Indépendants : grand public et professionnels.\n",
      "  - Pessac-Léognan : amateurs de grands crus.\n",
      "  - Cadillac : ambiance festive et locale.\n",
      "  - Cité du Vin : public intéressé par les vins naturels et l’écologie.\n",
      "- **Accès** :\n",
      "  - Gratuit pour les Portes Ouvertes et Vignerons en Fête.\n",
      "  - Payant pour le Salon et l’atelier de la Cité du Vin.\n",
      "\n",
      "Ces événements reflètent la diversité de la scène viticole bordelaise, des salons professionnels aux animations conviviales. Pour plus d’informations, consultez les liens fournis ou les sites des organisateurs.\n"
     ]
    }
   ],
   "source": [
    "# Test a query\n",
    "query = \"Un évènement à Bordeaux autour du vin\"\n",
    "response = qa_chain.invoke(query)\n",
    "print(response[\"result\"])"
   ]
  },
  {
   "cell_type": "code",
   "execution_count": 146,
   "id": "193e30e6",
   "metadata": {},
   "outputs": [
    {
     "name": "stdout",
     "output_type": "stream",
     "text": [
      "Voici un résumé structuré des événements que vous avez mentionnés, avec leurs dates, lieux et détails clés :\n",
      "\n",
      "---\n",
      "\n",
      "### **1. 26ème Salon des Vins des Vignerons Indépendants – Bordeaux**\n",
      "- **Dates** : 14–16 mars 2025\n",
      "- **Lieu** : Parc des Expositions de Bordeaux (Cours Jules Ladoumègue, 33)\n",
      "- **Horaires** :\n",
      "  - Vendredi 14 mars : 10h–20h\n",
      "  - Samedi 15 mars : 10h–19h\n",
      "  - Dimanche 16 mars : 10h–18h\n",
      "- **Description** : Salon incontournable pour déguster et acheter des vins directement auprès des producteurs, avec un concours récompensant les meilleurs vins (médaille d'or, argent, bronze, \"coup de cœur\").\n",
      "- **Prix** : Non précisé (billetterie en ligne).\n",
      "- **Site** : [vigneron-independant.com](https://www.vigneron-independant.com/26ème-salon-des-vins-des-vignerons-indépendants-bordeaux)\n",
      "\n",
      "---\n",
      "\n",
      "### **2. Portes Ouvertes de Pessac-Léognan**\n",
      "- **Dates** : 7–8 décembre 2024\n",
      "- **Lieu** : Châteaux de l’appellation Pessac-Léognan (Pessac, 33)\n",
      "- **Horaires** : 10h–18h (samedi et dimanche)\n",
      "- **Description** : Découverte des propriétés viticoles, dégustations et immersion dans l’histoire des vins de cette appellation prestigieuse.\n",
      "- **Prix** : Gratuit.\n",
      "- **Site** : Programme détaillé sur le site de l’événement.\n",
      "\n",
      "---\n",
      "\n",
      "### **3. Foire aux Plaisirs d’Automne**\n",
      "- **Dates** : 11 octobre – 3 novembre 2024\n",
      "- **Lieu** : Place des Quinconces, Bordeaux\n",
      "- **Horaires** :\n",
      "  - Ouverture quotidienne : 11h–minuit (2h les vendredis et samedis).\n",
      "  - Attractions disponibles à partir de 14h.\n",
      "- **Description** : Fête foraine avec 200 manèges, stands de nourriture (churros, barbes à papa) et produits du terroir.\n",
      "- **Prix** : Entrée libre, tarifs variables selon les attractions.\n",
      "\n",
      "---\n",
      "\n",
      "### **4. Stage de Danses de Gascogne**\n",
      "- **Date** : Samedi 30 novembre 2024\n",
      "- **Lieu** : Salle du Broustic, Andernos-les-Bains (33)\n",
      "- **Horaires** : 15h–18h\n",
      "- **Description** : Stage de danse traditionnelle animé par Philippe Marsac.\n",
      "- **Prix** : Non précisé (source : AgendaTrad).\n",
      "\n",
      "---\n",
      "\n",
      "### **Points clés à retenir** :\n",
      "- **Pour les amateurs de vin** : Salon des Vignerons Indépendants (mars 2025) et Portes Ouvertes de Pessac-Léognan (décembre 2024).\n",
      "- **Pour les familles** : Foire aux Plaisirs (octobre–novembre 2024).\n",
      "- **Pour la culture locale** : Stage de danses traditionnelles (novembre 2024).\n",
      "\n",
      "N’hésitez pas à consulter les sites officiels pour plus de détails ou pour réserver vos billets !\n"
     ]
    }
   ],
   "source": [
    "# Test a query\n",
    "query = \"Un évènement à Bordeaux autour du vin dont la date est en novembre\"\n",
    "response = qa_chain.invoke(query)\n",
    "print(response[\"result\"])"
   ]
  },
  {
   "cell_type": "code",
   "execution_count": 147,
   "id": "259843d2",
   "metadata": {},
   "outputs": [
    {
     "name": "stdout",
     "output_type": "stream",
     "text": [
      "Voici une synthèse organisée des informations que vous avez fournies sur les différentes activités culturelles et visites proposées :\n",
      "\n",
      "---\n",
      "\n",
      "### **1. Visite libre du Musée de la Faïence et des Arts de la table**\n",
      "- **Description** : Visite libre des collections permanentes et de l'exposition temporaire.\n",
      "- **Adresse** : 2378 Route d’Hagetmau, 40320 Samadet, France.\n",
      "- **Date et horaire** : Samedi 17 mai 2025, de 19h00 à 22h30.\n",
      "- **Prix** : Non précisé.\n",
      "\n",
      "---\n",
      "\n",
      "### **2. Atelier : « À la découverte des jeux antiques »**\n",
      "- **Description** : Découverte en autonomie des jeux pratiqués à l'époque antique.\n",
      "- **Adresse** : Amphithéâtre gallo-romain, 20 rue Lacurie, 17100 Saintes.\n",
      "- **Dates et horaires** :\n",
      "  - Samedi 21 septembre 2024 : 10h00–12h30 et 13h30–18h00.\n",
      "  - Dimanche 22 septembre 2024 : 10h00–12h30 et 13h30–18h00.\n",
      "- **Prix** : Gratuit, sans réservation.\n",
      "- **Contact** : 05 46 97 73 85.\n",
      "\n",
      "---\n",
      "\n",
      "### **3. Visite de Nexteam Machining**\n",
      "- **Description** : Découverte d'une entreprise spécialisée en mécanique de précision et usinage de métaux durs. Au programme : présentation de l'entreprise, visite des installations, échanges avec les salariés et discussions sur les besoins en recrutement et formation.\n",
      "- **Adresse** : 34 avenue Condorcet, 47200 Marmande.\n",
      "- **Date et horaire** : Mardi 19 novembre 2024, de 9h00 à 11h30.\n",
      "- **Prix** : Non précisé.\n",
      "\n",
      "---\n",
      "\n",
      "### **4. Visite découverte du Château de Pouthet**\n",
      "- **Description** : Visite guidée des extérieurs du château et déambulation dans le parc en compagnie de la propriétaire.\n",
      "- **Adresse** : Château de Pouthet, 24500 Eymet.\n",
      "- **Dates et horaires** :\n",
      "  - Samedi 21 septembre 2024 : 10h00–13h00 et 14h00–18h00.\n",
      "  - Dimanche 22 septembre 2024 : 10h00–13h00 et 14h00–18h00.\n",
      "- **Prix** : 5 €.\n",
      "\n",
      "---\n",
      "\n",
      "### **Remarques** :\n",
      "- Les prix non précisés nécessitent une vérification auprès des organisateurs.\n",
      "- Pour les activités gratuites (comme l'atelier sur les jeux antiques), aucune réservation n'est requise.\n",
      "- Les horaires et dates sont à confirmer, notamment pour les événements éloignés (comme celui de mai 2025).\n",
      "\n",
      "Si vous souhaitez des détails supplémentaires ou des précisions sur l'une de ces activités, n'hésitez pas à demander !\n"
     ]
    }
   ],
   "source": [
    "# Test a query\n",
    "query = \"\"\n",
    "response = qa_chain.invoke(query)\n",
    "print(response[\"result\"])"
   ]
  },
  {
   "cell_type": "code",
   "execution_count": 148,
   "id": "7248054d",
   "metadata": {},
   "outputs": [
    {
     "data": {
      "text/plain": [
       "{'query': '',\n",
       " 'result': \"Voici une synthèse organisée des informations que vous avez fournies sur les différentes activités culturelles et visites proposées :\\n\\n---\\n\\n### **1. Visite libre du Musée de la Faïence et des Arts de la table**\\n- **Description** : Visite libre des collections permanentes et de l'exposition temporaire.\\n- **Adresse** : 2378 Route d’Hagetmau, 40320 Samadet, France.\\n- **Date et horaire** : Samedi 17 mai 2025, de 19h00 à 22h30.\\n- **Prix** : Non précisé.\\n\\n---\\n\\n### **2. Atelier : « À la découverte des jeux antiques »**\\n- **Description** : Découverte en autonomie des jeux pratiqués à l'époque antique.\\n- **Adresse** : Amphithéâtre gallo-romain, 20 rue Lacurie, 17100 Saintes.\\n- **Dates et horaires** :\\n  - Samedi 21 septembre 2024 : 10h00–12h30 et 13h30–18h00.\\n  - Dimanche 22 septembre 2024 : 10h00–12h30 et 13h30–18h00.\\n- **Prix** : Gratuit, sans réservation.\\n- **Contact** : 05 46 97 73 85.\\n\\n---\\n\\n### **3. Visite de Nexteam Machining**\\n- **Description** : Découverte d'une entreprise spécialisée en mécanique de précision et usinage de métaux durs. Au programme : présentation de l'entreprise, visite des installations, échanges avec les salariés et discussions sur les besoins en recrutement et formation.\\n- **Adresse** : 34 avenue Condorcet, 47200 Marmande.\\n- **Date et horaire** : Mardi 19 novembre 2024, de 9h00 à 11h30.\\n- **Prix** : Non précisé.\\n\\n---\\n\\n### **4. Visite découverte du Château de Pouthet**\\n- **Description** : Visite guidée des extérieurs du château et déambulation dans le parc en compagnie de la propriétaire.\\n- **Adresse** : Château de Pouthet, 24500 Eymet.\\n- **Dates et horaires** :\\n  - Samedi 21 septembre 2024 : 10h00–13h00 et 14h00–18h00.\\n  - Dimanche 22 septembre 2024 : 10h00–13h00 et 14h00–18h00.\\n- **Prix** : 5 €.\\n\\n---\\n\\n### **Remarques** :\\n- Les prix non précisés nécessitent une vérification auprès des organisateurs.\\n- Pour les activités gratuites (comme l'atelier sur les jeux antiques), aucune réservation n'est requise.\\n- Les horaires et dates sont à confirmer, notamment pour les événements éloignés (comme celui de mai 2025).\\n\\nSi vous souhaitez des détails supplémentaires ou des précisions sur l'une de ces activités, n'hésitez pas à demander !\"}"
      ]
     },
     "execution_count": 148,
     "metadata": {},
     "output_type": "execute_result"
    }
   ],
   "source": [
    "response"
   ]
  },
  {
   "cell_type": "code",
   "execution_count": 149,
   "id": "52bdeada",
   "metadata": {},
   "outputs": [
    {
     "data": {
      "text/plain": [
       "{'titre': \"Explorez les rues de Collonges-la-Rouge accompagnés d'un guide !\",\n",
       " 'description': \"Laissez-vous conter l’histoire et les légendes surprenantes de Collonges-la-Rouge au cours d'une visite guidée gratuite dans les ruelles de la ville.\",\n",
       " 'longue description': \"Laissez-vous conter l’histoire et les légendes surprenantes de Collonges-la-Rouge au cours d'une visite guidée gratuite dans les ruelles de la ville.\",\n",
       " 'adresse': 'Office de Tourisme Vallée de la Dordogne, Collonges la Rouge, 1274 Route de Brive, 19500 Collonges-la-Rouge',\n",
       " 'telephone': '05 65 33 22 00',\n",
       " 'site Web': 'https://www.vallee-dordogne.com/',\n",
       " 'dates': [{'begin': '2024-09-22 10:30:00+02:00',\n",
       "   'end': '2024-09-22 12:00:00+02:00'},\n",
       "  {'begin': '2024-09-22 15:00:00+02:00', 'end': '2024-09-22 16:30:00+02:00'}],\n",
       " 'dates affichage': ['dimanche 22 septembre 2024, 10:30 – 12:00',\n",
       "  'dimanche 22 septembre 2024, 15:00 – 16:30'],\n",
       " 'prix': \"Gratuit. Sans réservation. Départ de l'office de Tourisme à 10h30 et 15h le dimanche 22 Septembre.\"}"
      ]
     },
     "execution_count": 149,
     "metadata": {},
     "output_type": "execute_result"
    }
   ],
   "source": [
    "docs[0]"
   ]
  }
 ],
 "metadata": {
  "kernelspec": {
   "display_name": ".venv",
   "language": "python",
   "name": "python3"
  },
  "language_info": {
   "codemirror_mode": {
    "name": "ipython",
    "version": 3
   },
   "file_extension": ".py",
   "mimetype": "text/x-python",
   "name": "python",
   "nbconvert_exporter": "python",
   "pygments_lexer": "ipython3",
   "version": "3.10.0"
  }
 },
 "nbformat": 4,
 "nbformat_minor": 5
}
