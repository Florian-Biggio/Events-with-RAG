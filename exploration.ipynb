{
 "cells": [
  {
   "cell_type": "code",
   "execution_count": null,
   "id": "291854a6",
   "metadata": {},
   "outputs": [
    {
     "name": "stdout",
     "output_type": "stream",
     "text": [
      "c:\\Users\\Dev\\Desktop\\OpenClassrooms\\Project11\\RAG\\Events-with-RAG\\.venv\\Scripts\\python.exe\n"
     ]
    }
   ],
   "source": [
    "import sys\n",
    "import os\n",
    "print(sys.executable)\n"
   ]
  },
  {
   "cell_type": "code",
   "execution_count": 148,
   "id": "6235eda1",
   "metadata": {},
   "outputs": [
    {
     "name": "stdout",
     "output_type": "stream",
     "text": [
      "Package                   Version\n",
      "------------------------- -----------\n",
      "aiohappyeyeballs          2.6.1\n",
      "aiohttp                   3.12.11\n",
      "aiosignal                 1.3.2\n",
      "alembic                   1.16.1\n",
      "amqp                      5.3.1\n",
      "annotated-types           0.7.0\n",
      "anyio                     4.9.0\n",
      "asttokens                 3.0.0\n",
      "async-timeout             4.0.3\n",
      "attrs                     25.3.0\n",
      "babel                     2.17.0\n",
      "bcrypt                    4.3.0\n",
      "beautifulsoup4            4.13.4\n",
      "bs4                       0.0.2\n",
      "cachetools                6.0.0\n",
      "certifi                   2025.4.26\n",
      "cffi                      1.17.1\n",
      "charset-normalizer        3.4.2\n",
      "colorama                  0.4.6\n",
      "comm                      0.2.2\n",
      "croniter                  6.0.0\n",
      "cryptography              45.0.3\n",
      "dataclasses-json          0.6.7\n",
      "debtcollector             3.0.0\n",
      "debugpy                   1.8.14\n",
      "decorator                 5.2.1\n",
      "dnspython                 2.7.0\n",
      "dogpile.cache             1.4.0\n",
      "eval_type_backport        0.2.2\n",
      "eventlet                  0.40.0\n",
      "exceptiongroup            1.3.0\n",
      "executing                 2.2.0\n",
      "faiss-cpu                 1.11.0\n",
      "fasteners                 0.19\n",
      "filelock                  3.18.0\n",
      "frozenlist                1.6.2\n",
      "fsspec                    2025.5.1\n",
      "futurist                  3.1.1\n",
      "greenlet                  3.2.3\n",
      "h11                       0.16.0\n",
      "httpcore                  1.0.9\n",
      "httpx                     0.28.1\n",
      "httpx-sse                 0.4.0\n",
      "huggingface-hub           0.32.4\n",
      "idna                      3.10\n",
      "importlib_metadata        8.7.0\n",
      "ipykernel                 6.29.5\n",
      "ipython                   8.37.0\n",
      "iso8601                   2.1.0\n",
      "jedi                      0.19.2\n",
      "Jinja2                    3.1.6\n",
      "joblib                    1.5.1\n",
      "jsonpatch                 1.33\n",
      "jsonpointer               3.0.0\n",
      "jsonschema                4.24.0\n",
      "jsonschema-specifications 2025.4.1\n",
      "jupyter_client            8.6.3\n",
      "jupyter_core              5.8.1\n",
      "keystoneauth1             5.11.0\n",
      "keystonemiddleware        10.10.0\n",
      "kombu                     5.5.4\n",
      "langchain                 0.3.25\n",
      "langchain-community       0.3.24\n",
      "langchain-core            0.3.64\n",
      "langchain-mistralai       0.2.10\n",
      "langchain-text-splitters  0.3.8\n",
      "langsmith                 0.3.45\n",
      "Mako                      1.3.10\n",
      "MarkupSafe                3.0.2\n",
      "marshmallow               3.26.1\n",
      "matplotlib-inline         0.1.7\n",
      "mistral                   20.0.0\n",
      "mistral-lib               3.3.1\n",
      "mistralai                 1.8.2\n",
      "mpmath                    1.3.0\n",
      "msgpack                   1.1.0\n",
      "multidict                 6.4.4\n",
      "mypy_extensions           1.1.0\n",
      "nest-asyncio              1.6.0\n",
      "netaddr                   1.3.0\n",
      "networkx                  3.4.2\n",
      "numpy                     2.2.6\n",
      "orjson                    3.10.18\n",
      "os-service-types          1.7.0\n",
      "oslo.cache                3.11.0\n",
      "oslo.concurrency          7.1.0\n",
      "oslo.config               9.8.0\n",
      "oslo.context              6.0.0\n",
      "oslo.db                   17.2.1\n",
      "oslo.i18n                 6.5.1\n",
      "oslo.log                  7.1.0\n",
      "oslo.messaging            17.0.0\n",
      "oslo.metrics              0.12.0\n",
      "oslo.middleware           6.5.0\n",
      "oslo.policy               4.5.1\n",
      "oslo.serialization        5.7.0\n",
      "oslo.service              4.2.0\n",
      "oslo.utils                9.0.0\n",
      "osprofiler                4.3.0\n",
      "packaging                 24.2\n",
      "pandas                    2.3.0\n",
      "paramiko                  3.5.1\n",
      "parso                     0.8.4\n",
      "Paste                     3.10.1\n",
      "PasteDeploy               3.1.0\n",
      "pbr                       6.1.1\n",
      "pecan                     1.6.0\n",
      "pillow                    11.2.1\n",
      "pip                       21.2.3\n",
      "platformdirs              4.3.8\n",
      "ply                       3.11\n",
      "prettytable               3.16.0\n",
      "prometheus_client         0.22.1\n",
      "prompt_toolkit            3.0.51\n",
      "propcache                 0.3.1\n",
      "psutil                    7.0.0\n",
      "pure_eval                 0.2.3\n",
      "pycadf                    4.0.1\n",
      "pycparser                 2.22\n",
      "pydantic                  2.11.5\n",
      "pydantic_core             2.33.2\n",
      "pydantic-settings         2.9.1\n",
      "Pygments                  2.19.1\n",
      "PyJWT                     2.10.1\n",
      "PyNaCl                    1.5.0\n",
      "pyparsing                 3.2.3\n",
      "python-dateutil           2.9.0.post0\n",
      "python-dotenv             1.1.0\n",
      "python-keystoneclient     5.6.0\n",
      "pytz                      2025.2\n",
      "pywin32                   310\n",
      "PyYAML                    6.0.2\n",
      "pyzmq                     26.4.0\n",
      "referencing               0.36.2\n",
      "regex                     2024.11.6\n",
      "repoze.lru                0.7\n",
      "requests                  2.32.3\n",
      "requests-toolbelt         1.0.0\n",
      "rfc3986                   2.0.0\n",
      "Routes                    2.5.1\n",
      "rpds-py                   0.25.1\n",
      "safetensors               0.5.3\n",
      "scikit-learn              1.7.0\n",
      "scipy                     1.15.3\n",
      "sentence-transformers     4.1.0\n",
      "setuptools                57.4.0\n",
      "simplegeneric             0.8.1\n",
      "six                       1.17.0\n",
      "sniffio                   1.3.1\n",
      "soupsieve                 2.7\n",
      "SQLAlchemy                2.0.41\n",
      "stack-data                0.6.3\n",
      "statsd                    4.0.1\n",
      "stevedore                 5.4.1\n",
      "sympy                     1.14.0\n",
      "tenacity                  9.1.2\n",
      "testresources             2.0.2\n",
      "testscenarios             0.5.0\n",
      "testtools                 2.7.2\n",
      "threadpoolctl             3.6.0\n",
      "tiktoken                  0.9.0\n",
      "tokenizers                0.21.1\n",
      "tomli                     2.2.1\n",
      "tooz                      7.0.0\n",
      "torch                     2.7.1\n",
      "tornado                   6.5.1\n",
      "tqdm                      4.67.1\n",
      "traitlets                 5.14.3\n",
      "transformers              4.52.4\n",
      "typing_extensions         4.14.0\n",
      "typing-inspect            0.9.0\n",
      "typing-inspection         0.4.1\n",
      "tzdata                    2025.2\n",
      "urllib3                   2.4.0\n",
      "vine                      5.1.0\n",
      "voluptuous                0.15.2\n",
      "wcwidth                   0.2.13\n",
      "WebOb                     1.8.9\n",
      "wrapt                     1.17.2\n",
      "WSME                      0.12.1\n",
      "yappi                     1.6.10\n",
      "yaql                      3.1.0\n",
      "yarl                      1.20.0\n",
      "zipp                      3.22.0\n",
      "zstandard                 0.23.0\n",
      "Note: you may need to restart the kernel to use updated packages.\n"
     ]
    },
    {
     "name": "stderr",
     "output_type": "stream",
     "text": [
      "WARNING: You are using pip version 21.2.3; however, version 25.1.1 is available.\n",
      "You should consider upgrading via the 'c:\\Users\\Dev\\Desktop\\OpenClassrooms\\Project11\\RAG\\Events-with-RAG\\.venv\\Scripts\\python.exe -m pip install --upgrade pip' command.\n"
     ]
    }
   ],
   "source": [
    "%pip list\n"
   ]
  },
  {
   "cell_type": "code",
   "execution_count": 149,
   "id": "cbb1b9b6",
   "metadata": {},
   "outputs": [
    {
     "name": "stdout",
     "output_type": "stream",
     "text": [
      "Toutes les bibliothèques sont bien importées ✅\n"
     ]
    }
   ],
   "source": [
    "import langchain\n",
    "import faiss\n",
    "import mistral  # ou mistralai si besoin\n",
    "from datetime import datetime\n",
    "\n",
    "print(\"Toutes les bibliothèques sont bien importées ✅\")\n"
   ]
  },
  {
   "cell_type": "code",
   "execution_count": 150,
   "id": "e4c4a511",
   "metadata": {},
   "outputs": [
    {
     "data": {
      "text/plain": [
       "'2024-06-20T00:00:00'"
      ]
     },
     "execution_count": 150,
     "metadata": {},
     "output_type": "execute_result"
    }
   ],
   "source": [
    "cutoffDate = datetime.now().strftime(\"%Y-%m-%dT00:00:00\")\n",
    "cutoffDate = cutoffDate[0:3] + str(int(cutoffDate[3])-1) + cutoffDate[4:]\n",
    "cutoffDate"
   ]
  },
  {
   "cell_type": "code",
   "execution_count": 179,
   "id": "d95e5594",
   "metadata": {},
   "outputs": [],
   "source": [
    "import requests\n",
    "import pandas as pd\n",
    "\n",
    "base_url = \"https://public.opendatasoft.com/api/explore/v2.1/catalog/datasets/evenements-publics-openagenda/records\"\n",
    "\n",
    "all_records = []\n",
    "\n",
    "# 100 pages of 100 = 10000 results\n",
    "for offset in range(0, 10000, 100):\n",
    "    params = {\n",
    "        \"limit\": 100,\n",
    "        \"where\": \"location_region = 'Nouvelle-Aquitaine' AND lastdate_end >= '\" + cutoffDate + \"'\",\n",
    "        \"offset\": offset,\n",
    "    }\n",
    "\n",
    "    response = requests.get(base_url, params=params)\n",
    "    response.raise_for_status()\n",
    "    data = response.json()\n",
    "    records = data.get(\"results\", [])\n",
    "\n",
    "    if not records:\n",
    "        break  # Stop if no more records returned\n",
    "\n",
    "    all_records.extend(records)\n",
    "\n"
   ]
  },
  {
   "cell_type": "code",
   "execution_count": 183,
   "id": "ac9b6cd8",
   "metadata": {},
   "outputs": [
    {
     "data": {
      "text/plain": [
       "{'total_count': 6918, 'results': []}"
      ]
     },
     "execution_count": 183,
     "metadata": {},
     "output_type": "execute_result"
    }
   ],
   "source": [
    "data"
   ]
  },
  {
   "cell_type": "code",
   "execution_count": 152,
   "id": "10dc51b7",
   "metadata": {},
   "outputs": [
    {
     "data": {
      "text/plain": [
       "6918"
      ]
     },
     "execution_count": 152,
     "metadata": {},
     "output_type": "execute_result"
    }
   ],
   "source": [
    "# Convert to DataFrame\n",
    "df = pd.DataFrame.from_records(all_records)\n",
    "\n",
    "len(df)"
   ]
  },
  {
   "cell_type": "code",
   "execution_count": 153,
   "id": "69d09d38",
   "metadata": {},
   "outputs": [],
   "source": [
    "cols_to_convert = [\n",
    "    \"updatedat\", \n",
    "    \"firstdate_begin\", \n",
    "    \"firstdate_end\",\n",
    "    \"lastdate_begin\",\n",
    "    \"lastdate_end\",\n",
    "    ] \n",
    "\n",
    "for col in cols_to_convert:\n",
    "    df[col] = pd.to_datetime(df[col], format='ISO8601')\n"
   ]
  },
  {
   "cell_type": "code",
   "execution_count": 154,
   "id": "07229d03",
   "metadata": {},
   "outputs": [
    {
     "data": {
      "text/plain": [
       "Index(['uid', 'slug', 'canonicalurl', 'title_fr', 'description_fr',\n",
       "       'longdescription_fr', 'conditions_fr', 'keywords_fr', 'image',\n",
       "       'imagecredits', 'thumbnail', 'originalimage', 'updatedat',\n",
       "       'daterange_fr', 'firstdate_begin', 'firstdate_end', 'lastdate_begin',\n",
       "       'lastdate_end', 'timings', 'accessibility', 'accessibility_label_fr',\n",
       "       'location_uid', 'location_coordinates', 'location_name',\n",
       "       'location_address', 'location_district', 'location_insee',\n",
       "       'location_postalcode', 'location_city', 'location_department',\n",
       "       'location_region', 'location_countrycode', 'location_image',\n",
       "       'location_imagecredits', 'location_phone', 'location_website',\n",
       "       'location_links', 'location_tags', 'location_description_fr',\n",
       "       'location_access_fr', 'attendancemode', 'onlineaccesslink', 'status',\n",
       "       'age_min', 'age_max', 'originagenda_title', 'originagenda_uid',\n",
       "       'contributor_email', 'contributor_contactnumber',\n",
       "       'contributor_contactname', 'contributor_contactposition',\n",
       "       'contributor_organization', 'category', 'country_fr', 'registration',\n",
       "       'links'],\n",
       "      dtype='object')"
      ]
     },
     "execution_count": 154,
     "metadata": {},
     "output_type": "execute_result"
    }
   ],
   "source": [
    "df.columns"
   ]
  },
  {
   "cell_type": "code",
   "execution_count": 155,
   "id": "51f89f5e",
   "metadata": {},
   "outputs": [
    {
     "name": "stdout",
     "output_type": "stream",
     "text": [
      "Fetched 6918 records.\n"
     ]
    },
    {
     "data": {
      "text/html": [
       "<div>\n",
       "<style scoped>\n",
       "    .dataframe tbody tr th:only-of-type {\n",
       "        vertical-align: middle;\n",
       "    }\n",
       "\n",
       "    .dataframe tbody tr th {\n",
       "        vertical-align: top;\n",
       "    }\n",
       "\n",
       "    .dataframe thead th {\n",
       "        text-align: right;\n",
       "    }\n",
       "</style>\n",
       "<table border=\"1\" class=\"dataframe\">\n",
       "  <thead>\n",
       "    <tr style=\"text-align: right;\">\n",
       "      <th></th>\n",
       "      <th>uid</th>\n",
       "      <th>slug</th>\n",
       "      <th>description_fr</th>\n",
       "      <th>location_region</th>\n",
       "      <th>lastdate_end</th>\n",
       "    </tr>\n",
       "  </thead>\n",
       "  <tbody>\n",
       "    <tr>\n",
       "      <th>0</th>\n",
       "      <td>81494288</td>\n",
       "      <td>visite-guidee-de-collonges-la-rouge</td>\n",
       "      <td>Laissez-vous conter l’histoire et les légendes...</td>\n",
       "      <td>Nouvelle-Aquitaine</td>\n",
       "      <td>2024-09-22 14:30:00+00:00</td>\n",
       "    </tr>\n",
       "    <tr>\n",
       "      <th>1</th>\n",
       "      <td>38171454</td>\n",
       "      <td>visita-guiada-sobre-el-traje-a-traves-de-la-hi...</td>\n",
       "      <td>Le musée retrace l'évolution du costume à trav...</td>\n",
       "      <td>Nouvelle-Aquitaine</td>\n",
       "      <td>2024-09-21 16:00:00+00:00</td>\n",
       "    </tr>\n",
       "    <tr>\n",
       "      <th>2</th>\n",
       "      <td>98956271</td>\n",
       "      <td>ateliers-dart-floral-5792915</td>\n",
       "      <td>Apprendre à réaliser des compositions florales...</td>\n",
       "      <td>Nouvelle-Aquitaine</td>\n",
       "      <td>2024-06-27 16:00:00+00:00</td>\n",
       "    </tr>\n",
       "    <tr>\n",
       "      <th>3</th>\n",
       "      <td>69227970</td>\n",
       "      <td>domaine-doronozia</td>\n",
       "      <td>RH</td>\n",
       "      <td>Nouvelle-Aquitaine</td>\n",
       "      <td>2032-01-01 03:00:00+00:00</td>\n",
       "    </tr>\n",
       "    <tr>\n",
       "      <th>4</th>\n",
       "      <td>61334124</td>\n",
       "      <td>decouverte-de-la-salamandre</td>\n",
       "      <td>Dans le cadre des RV durables</td>\n",
       "      <td>Nouvelle-Aquitaine</td>\n",
       "      <td>2024-10-25 19:00:00+00:00</td>\n",
       "    </tr>\n",
       "  </tbody>\n",
       "</table>\n",
       "</div>"
      ],
      "text/plain": [
       "        uid                                               slug  \\\n",
       "0  81494288                visite-guidee-de-collonges-la-rouge   \n",
       "1  38171454  visita-guiada-sobre-el-traje-a-traves-de-la-hi...   \n",
       "2  98956271                       ateliers-dart-floral-5792915   \n",
       "3  69227970                                  domaine-doronozia   \n",
       "4  61334124                        decouverte-de-la-salamandre   \n",
       "\n",
       "                                      description_fr     location_region  \\\n",
       "0  Laissez-vous conter l’histoire et les légendes...  Nouvelle-Aquitaine   \n",
       "1  Le musée retrace l'évolution du costume à trav...  Nouvelle-Aquitaine   \n",
       "2  Apprendre à réaliser des compositions florales...  Nouvelle-Aquitaine   \n",
       "3                                                 RH  Nouvelle-Aquitaine   \n",
       "4                      Dans le cadre des RV durables  Nouvelle-Aquitaine   \n",
       "\n",
       "               lastdate_end  \n",
       "0 2024-09-22 14:30:00+00:00  \n",
       "1 2024-09-21 16:00:00+00:00  \n",
       "2 2024-06-27 16:00:00+00:00  \n",
       "3 2032-01-01 03:00:00+00:00  \n",
       "4 2024-10-25 19:00:00+00:00  "
      ]
     },
     "execution_count": 155,
     "metadata": {},
     "output_type": "execute_result"
    }
   ],
   "source": [
    "# Preview\n",
    "print(f\"Fetched {len(df)} records.\")\n",
    "df[[\"uid\", \"slug\", \"description_fr\", \"location_region\", \"lastdate_end\"]].head()\n"
   ]
  },
  {
   "cell_type": "code",
   "execution_count": 156,
   "id": "adb8ff71",
   "metadata": {},
   "outputs": [],
   "source": [
    "from bs4 import BeautifulSoup\n",
    "from bs4 import MarkupResemblesLocatorWarning\n",
    "import warnings\n",
    "warnings.filterwarnings(\"ignore\", category=MarkupResemblesLocatorWarning)\n",
    "\n",
    "def clean_html(text):\n",
    "    if isinstance(text, str):\n",
    "        return BeautifulSoup(text, \"html.parser\").get_text(separator=\"\")\n",
    "    return \"\"\n",
    "\n",
    "df[\"longdescription_fr\"] = df[\"longdescription_fr\"].apply(clean_html)"
   ]
  },
  {
   "cell_type": "code",
   "execution_count": 157,
   "id": "59e0d2cf",
   "metadata": {},
   "outputs": [],
   "source": [
    "df.to_csv(\"output/clean_evenements_publics_openagenda.csv\", index=False)"
   ]
  },
  {
   "cell_type": "code",
   "execution_count": 176,
   "id": "01cd5520",
   "metadata": {},
   "outputs": [],
   "source": [
    "import os\n",
    "import json\n",
    "\n",
    "metrics = {\n",
    "    \"cutoffDate\": cutoffDate,\n",
    "    \"required_columns\": [\"title_fr\", \"description_fr\", \"timings\"],\n",
    "    \"row_count\": len(df),\n",
    "}\n",
    "\n",
    "file_path = os.path.join(\"tests/\", f\"expected_metrics.json\")\n",
    "\n",
    "\n",
    "\n",
    "with open(file_path, 'w', encoding='utf-8') as f:\n",
    "    json.dump(metrics, f, indent=4, ensure_ascii=False)"
   ]
  },
  {
   "cell_type": "code",
   "execution_count": 184,
   "id": "8d4a5531",
   "metadata": {},
   "outputs": [],
   "source": [
    "import json\n",
    "from datetime import datetime\n",
    "from dateutil import parser  # Robust parsing for ISO 8601\n",
    "import locale\n",
    "from datetime import datetime\n",
    "from babel.dates import format_datetime\n",
    "\n",
    "# Optionnel : utile si on ne veut pas dépendre de la configuration système\n",
    "locale.setlocale(locale.LC_TIME, 'fr_FR.UTF-8')  # Peut ne pas fonctionner sur Windows sans les locales installées\n",
    "\n",
    "\n",
    "\n",
    "def parse_dates(dates_str):\n",
    "    try:\n",
    "        parsed = json.loads(dates_str)\n",
    "        return [\n",
    "            {\n",
    "                \"begin\": parser.parse(item[\"begin\"]),\n",
    "                \"end\": parser.parse(item[\"end\"])\n",
    "            }\n",
    "            for item in parsed\n",
    "        ]\n",
    "    except (json.JSONDecodeError, KeyError, TypeError):\n",
    "        return []\n",
    "\n",
    "def format_dates_fr(dates):\n",
    "    return [\n",
    "        f\"{format_datetime(d['begin'], 'EEEE d MMMM yyyy, HH:mm', locale='fr_FR')} – {format_datetime(d['end'], 'EEEE d MMMM yyyy, HH:mm', locale='fr_FR')}\"\n",
    "        for d in dates\n",
    "    ]\n"
   ]
  },
  {
   "cell_type": "code",
   "execution_count": 195,
   "id": "6da9a51d",
   "metadata": {},
   "outputs": [],
   "source": [
    "def build_documents_from_df(df):\n",
    "    documents = []\n",
    "    for _, row in df.iterrows():\n",
    "        raw_dates = row.get(\"timings\", \"\")\n",
    "        parsed_dates = parse_dates(raw_dates)\n",
    "        display_dates = format_dates_fr(parsed_dates)\n",
    "        doc = {\n",
    "            \"titre\": row.get(\"title_fr\", \"\") or \"\",\n",
    "            \"description\": row.get(\"description_fr\", \"\") or \"\",\n",
    "            \"longue description\": row.get(\"longdescription_fr\", \"\") or \"\",\n",
    "            \"adresse\": \", \".join(filter(None, [\n",
    "                # row.get(\"location_name\", \"\"),\n",
    "                row.get(\"location_address\", \"\")\n",
    "            ])),\n",
    "            \"telephone\": row.get(\"location_phone\", \"\") or \"\",\n",
    "            \"site Web\": row.get(\"location_website\", \"\") or \"\",\n",
    "            \"dates\": parsed_dates,               # structuree, plus facile à manipuler\n",
    "            \"dates affichage\": display_dates,       # claires, pour les réponses\n",
    "            \"prix\": row.get(\"conditions_fr\", \"\") or \"\",\n",
    "        }\n",
    "        documents.append(doc)\n",
    "    return documents\n"
   ]
  },
  {
   "cell_type": "code",
   "execution_count": 196,
   "id": "5fd51f15",
   "metadata": {},
   "outputs": [],
   "source": [
    "docs = build_documents_from_df(df)"
   ]
  },
  {
   "cell_type": "code",
   "execution_count": 194,
   "id": "b0cf51e5",
   "metadata": {},
   "outputs": [
    {
     "data": {
      "text/plain": [
       "{'titre': 'Festival Musique et Patrimoine en Vienne et Gartempe',\n",
       " 'description': 'Orchestre ANIMA - Vivaldi 4 Saisons',\n",
       " 'longue description': 'Anima est un orchestre symphonique fondé en 2022 à l’initiative de deux jeunes musiciens.Au programme, ce chef-d’œuvre de son traité musical « La confrontation entre l’harmonie et l’invention » dédié aux quatre saisons (printemps, été, automne et hiver), le célèbre prêtre-maestro italien Antonio Vivaldi (1678-1741), alors âgé de 47 ans,a composé cet hymne universel grandiose à la nature avec tout le génie de son langage musical virtuose expressif.',\n",
       " 'adresse': 'Eglise Saint-Martin à Saint-Martin-la-Rivière, 86300 Valdivienne',\n",
       " 'telephone': '',\n",
       " 'site Web': '',\n",
       " 'dates': [{'begin': datetime.datetime(2024, 7, 22, 20, 30, tzinfo=tzoffset(None, 7200)),\n",
       "   'end': datetime.datetime(2024, 7, 22, 22, 0, tzinfo=tzoffset(None, 7200))}],\n",
       " 'dates affichage': ['lundi 22 juillet 2024, 20:30 – lundi 22 juillet 2024, 22:00'],\n",
       " 'prix': \"TARIF PLEIN : 17€\\nTARIF RÉDUIT (ADHÉRENT ET -18 ANS) : 12€\\nABONNEMENT 3 CONCERTS : 45€\\nGratuit pour moins de 12 ans \\nAdhésion à l'association : 30 €\"}"
      ]
     },
     "execution_count": 194,
     "metadata": {},
     "output_type": "execute_result"
    }
   ],
   "source": [
    "docs[10]"
   ]
  },
  {
   "cell_type": "code",
   "execution_count": 162,
   "id": "e0ff0b69",
   "metadata": {},
   "outputs": [],
   "source": [
    "from sentence_transformers import SentenceTransformer\n",
    "\n",
    "model = SentenceTransformer(\"dangvantuan/sentence-camembert-base\")"
   ]
  },
  {
   "cell_type": "code",
   "execution_count": 197,
   "id": "606511db",
   "metadata": {},
   "outputs": [],
   "source": [
    "def get_embedding_text(doc):\n",
    "    return \"\\n\".join([\n",
    "        doc.get(\"titre\", \"\"),\n",
    "        doc.get(\"description\", \"\"),\n",
    "        # doc.get(\"longue description\", \"\"),\n",
    "        \"Adresse : \" + doc.get(\"adresse\", \"\"),\n",
    "        \"Dates : \" + \", \".join(doc.get(\"dates affichage\", [])),\n",
    "        # \"Prix : \" + doc.get(\"prix\", \"\"),\n",
    "    ])\n"
   ]
  },
  {
   "cell_type": "code",
   "execution_count": 199,
   "id": "9e0eb721",
   "metadata": {},
   "outputs": [
    {
     "name": "stdout",
     "output_type": "stream",
     "text": [
      "Explorez les rues de Collonges-la-Rouge accompagnés d'un guide !\n",
      "Laissez-vous conter l’histoire et les légendes surprenantes de Collonges-la-Rouge au cours d'une visite guidée gratuite dans les ruelles de la ville.\n",
      "Adresse : 1274 Route de Brive, 19500 Collonges-la-Rouge\n",
      "Dates : dimanche 22 septembre 2024, 10:30 – dimanche 22 septembre 2024, 12:00, dimanche 22 septembre 2024, 15:00 – dimanche 22 septembre 2024, 16:30\n",
      "\n",
      "Visite guidée sur le costume à travers l'histoire de France\n",
      "Le musée retrace l'évolution du costume à travers l'histoire de France sur treize scènes. La visite commence donc avec la scène de l'Antiquité, l'Empire gallo-romain et se termine par celle des...\n",
      "Adresse : 20 rue du Palais de Justice, 33340 Lesparre-Médoc\n",
      "Dates : vendredi 20 septembre 2024, 14:00 – vendredi 20 septembre 2024, 18:00, samedi 21 septembre 2024, 14:00 – samedi 21 septembre 2024, 18:00\n",
      "\n",
      "Ateliers d'art floral\n",
      "Apprendre à réaliser des compositions florales modernes et créatives autour d'un thème spécifique chaque mois.\n",
      "Adresse : rue de l'église 86260 vicq sur gartempe\n",
      "Dates : jeudi 21 septembre 2023, 14:00 – jeudi 21 septembre 2023, 18:00, jeudi 19 octobre 2023, 14:00 – jeudi 19 octobre 2023, 18:00, jeudi 16 novembre 2023, 14:00 – jeudi 16 novembre 2023, 18:00, jeudi 14 décembre 2023, 14:00 – jeudi 14 décembre 2023, 18:00, jeudi 18 janvier 2024, 14:00 – jeudi 18 janvier 2024, 18:00, jeudi 8 février 2024, 14:00 – jeudi 8 février 2024, 18:00, jeudi 7 mars 2024, 14:00 – jeudi 7 mars 2024, 18:00, jeudi 25 avril 2024, 14:00 – jeudi 25 avril 2024, 18:00, jeudi 30 mai 2024, 14:00 – jeudi 30 mai 2024, 18:00, jeudi 27 juin 2024, 14:00 – jeudi 27 juin 2024, 18:00\n",
      "\n",
      "Domaine d'Oronozia\n",
      "RH\n",
      "Adresse : 156 Tokilepoko bidea 64430 Saint-Etienne-de-Baigorry\n",
      "Dates : jeudi 1 janvier 2032, 02:00 – jeudi 1 janvier 2032, 04:00\n",
      "\n",
      "Découverte de la salamandre\n",
      "Dans le cadre des RV durables\n",
      "Adresse : 33140\n",
      "Dates : vendredi 25 octobre 2024, 19:00 – vendredi 25 octobre 2024, 21:00\n",
      "\n",
      "Balade immersive et sensorielle\n",
      "Dans le cadre des Rendez-vous durables\n",
      "Adresse : 33140\n",
      "Dates : samedi 21 septembre 2024, 10:00 – samedi 21 septembre 2024, 12:30\n",
      "\n",
      "Concert \"Expo en musique\"\n",
      "Concert de l'EMIG : des œuvres musicales et picturales se répondront à l'église St Martial de Montmorillon.\n",
      "Adresse : Place Saint-Martial Montmorillon\n",
      "Dates : mardi 25 juin 2024, 19:30 – mardi 25 juin 2024, 22:00\n",
      "\n",
      "Audacieux XIXe siècle, les Expositions universelles en France de 1855 à 1900\n",
      "Une exposition pour tout savoir, tout voir et tout connaitre de ces événements internationaux et des liens tissés entre les Expositions universelles et l'abbaye de Saint-Savin.\n",
      "Adresse : Place de la libération 86310 Saint-Savin\n",
      "Dates : jeudi 30 mai 2024, 10:00 – jeudi 30 mai 2024, 18:00, vendredi 31 mai 2024, 10:00 – vendredi 31 mai 2024, 18:00, samedi 1 juin 2024, 10:00 – samedi 1 juin 2024, 18:00, dimanche 2 juin 2024, 10:00 – dimanche 2 juin 2024, 18:00, lundi 3 juin 2024, 10:00 – lundi 3 juin 2024, 18:00, mardi 4 juin 2024, 10:00 – mardi 4 juin 2024, 18:00, mercredi 5 juin 2024, 10:00 – mercredi 5 juin 2024, 18:00, jeudi 6 juin 2024, 10:00 – jeudi 6 juin 2024, 18:00, vendredi 7 juin 2024, 10:00 – vendredi 7 juin 2024, 18:00, samedi 8 juin 2024, 10:00 – samedi 8 juin 2024, 18:00, dimanche 9 juin 2024, 10:00 – dimanche 9 juin 2024, 18:00, lundi 10 juin 2024, 10:00 – lundi 10 juin 2024, 18:00, mardi 11 juin 2024, 10:00 – mardi 11 juin 2024, 18:00, mercredi 12 juin 2024, 10:00 – mercredi 12 juin 2024, 18:00, jeudi 13 juin 2024, 10:00 – jeudi 13 juin 2024, 18:00, vendredi 14 juin 2024, 10:00 – vendredi 14 juin 2024, 18:00, samedi 15 juin 2024, 10:00 – samedi 15 juin 2024, 18:00, dimanche 16 juin 2024, 10:00 – dimanche 16 juin 2024, 18:00, lundi 17 juin 2024, 10:00 – lundi 17 juin 2024, 18:00, mardi 18 juin 2024, 10:00 – mardi 18 juin 2024, 18:00, mercredi 19 juin 2024, 10:00 – mercredi 19 juin 2024, 18:00, jeudi 20 juin 2024, 10:00 – jeudi 20 juin 2024, 18:00, vendredi 21 juin 2024, 10:00 – vendredi 21 juin 2024, 18:00, samedi 22 juin 2024, 10:00 – samedi 22 juin 2024, 18:00, dimanche 23 juin 2024, 10:00 – dimanche 23 juin 2024, 18:00, lundi 24 juin 2024, 10:00 – lundi 24 juin 2024, 18:00, mardi 25 juin 2024, 10:00 – mardi 25 juin 2024, 18:00, mercredi 26 juin 2024, 10:00 – mercredi 26 juin 2024, 18:00, jeudi 27 juin 2024, 10:00 – jeudi 27 juin 2024, 18:00, vendredi 28 juin 2024, 10:00 – vendredi 28 juin 2024, 18:00, samedi 29 juin 2024, 10:00 – samedi 29 juin 2024, 18:00, dimanche 30 juin 2024, 10:00 – dimanche 30 juin 2024, 18:00, lundi 1 juillet 2024, 10:00 – lundi 1 juillet 2024, 19:00, mardi 2 juillet 2024, 10:00 – mardi 2 juillet 2024, 19:00, mercredi 3 juillet 2024, 10:00 – mercredi 3 juillet 2024, 19:00, jeudi 4 juillet 2024, 10:00 – jeudi 4 juillet 2024, 19:00, vendredi 5 juillet 2024, 10:00 – vendredi 5 juillet 2024, 19:00, samedi 6 juillet 2024, 10:00 – samedi 6 juillet 2024, 19:00, dimanche 7 juillet 2024, 10:00 – dimanche 7 juillet 2024, 19:00, lundi 8 juillet 2024, 10:00 – lundi 8 juillet 2024, 19:00, mardi 9 juillet 2024, 10:00 – mardi 9 juillet 2024, 19:00, mercredi 10 juillet 2024, 10:00 – mercredi 10 juillet 2024, 19:00, jeudi 11 juillet 2024, 10:00 – jeudi 11 juillet 2024, 19:00, vendredi 12 juillet 2024, 10:00 – vendredi 12 juillet 2024, 19:00, samedi 13 juillet 2024, 10:00 – samedi 13 juillet 2024, 19:00, dimanche 14 juillet 2024, 10:00 – dimanche 14 juillet 2024, 19:00, lundi 15 juillet 2024, 10:00 – lundi 15 juillet 2024, 19:00, mardi 16 juillet 2024, 10:00 – mardi 16 juillet 2024, 19:00, mercredi 17 juillet 2024, 10:00 – mercredi 17 juillet 2024, 19:00, jeudi 18 juillet 2024, 10:00 – jeudi 18 juillet 2024, 19:00, vendredi 19 juillet 2024, 10:00 – vendredi 19 juillet 2024, 19:00, samedi 20 juillet 2024, 10:00 – samedi 20 juillet 2024, 19:00, dimanche 21 juillet 2024, 10:00 – dimanche 21 juillet 2024, 19:00, lundi 22 juillet 2024, 10:00 – lundi 22 juillet 2024, 19:00, mardi 23 juillet 2024, 10:00 – mardi 23 juillet 2024, 19:00, mercredi 24 juillet 2024, 10:00 – mercredi 24 juillet 2024, 19:00, jeudi 25 juillet 2024, 10:00 – jeudi 25 juillet 2024, 19:00, vendredi 26 juillet 2024, 10:00 – vendredi 26 juillet 2024, 19:00, samedi 27 juillet 2024, 10:00 – samedi 27 juillet 2024, 19:00, dimanche 28 juillet 2024, 10:00 – dimanche 28 juillet 2024, 19:00, lundi 29 juillet 2024, 10:00 – lundi 29 juillet 2024, 19:00, mardi 30 juillet 2024, 10:00 – mardi 30 juillet 2024, 19:00, mercredi 31 juillet 2024, 10:00 – mercredi 31 juillet 2024, 19:00, jeudi 1 août 2024, 10:00 – jeudi 1 août 2024, 19:00, vendredi 2 août 2024, 10:00 – vendredi 2 août 2024, 19:00, samedi 3 août 2024, 10:00 – samedi 3 août 2024, 19:00, dimanche 4 août 2024, 10:00 – dimanche 4 août 2024, 19:00, lundi 5 août 2024, 10:00 – lundi 5 août 2024, 19:00, mardi 6 août 2024, 10:00 – mardi 6 août 2024, 19:00, mercredi 7 août 2024, 10:00 – mercredi 7 août 2024, 19:00, jeudi 8 août 2024, 10:00 – jeudi 8 août 2024, 19:00, vendredi 9 août 2024, 10:00 – vendredi 9 août 2024, 19:00, samedi 10 août 2024, 10:00 – samedi 10 août 2024, 19:00, dimanche 11 août 2024, 10:00 – dimanche 11 août 2024, 19:00, lundi 12 août 2024, 10:00 – lundi 12 août 2024, 19:00, mardi 13 août 2024, 10:00 – mardi 13 août 2024, 19:00, mercredi 14 août 2024, 10:00 – mercredi 14 août 2024, 19:00, jeudi 15 août 2024, 10:00 – jeudi 15 août 2024, 19:00, vendredi 16 août 2024, 10:00 – vendredi 16 août 2024, 19:00, samedi 17 août 2024, 10:00 – samedi 17 août 2024, 19:00, dimanche 18 août 2024, 10:00 – dimanche 18 août 2024, 19:00, lundi 19 août 2024, 10:00 – lundi 19 août 2024, 19:00, mardi 20 août 2024, 10:00 – mardi 20 août 2024, 19:00, mercredi 21 août 2024, 10:00 – mercredi 21 août 2024, 19:00, jeudi 22 août 2024, 10:00 – jeudi 22 août 2024, 19:00, vendredi 23 août 2024, 10:00 – vendredi 23 août 2024, 19:00, samedi 24 août 2024, 10:00 – samedi 24 août 2024, 19:00, dimanche 25 août 2024, 10:00 – dimanche 25 août 2024, 19:00, lundi 26 août 2024, 10:00 – lundi 26 août 2024, 19:00, mardi 27 août 2024, 10:00 – mardi 27 août 2024, 19:00, mercredi 28 août 2024, 10:00 – mercredi 28 août 2024, 19:00, jeudi 29 août 2024, 10:00 – jeudi 29 août 2024, 19:00, vendredi 30 août 2024, 10:00 – vendredi 30 août 2024, 19:00, samedi 31 août 2024, 10:00 – samedi 31 août 2024, 19:00, dimanche 1 septembre 2024, 10:00 – dimanche 1 septembre 2024, 18:00, lundi 2 septembre 2024, 10:00 – lundi 2 septembre 2024, 18:00, mardi 3 septembre 2024, 10:00 – mardi 3 septembre 2024, 18:00, mercredi 4 septembre 2024, 10:00 – mercredi 4 septembre 2024, 18:00, jeudi 5 septembre 2024, 10:00 – jeudi 5 septembre 2024, 18:00, vendredi 6 septembre 2024, 10:00 – vendredi 6 septembre 2024, 18:00, samedi 7 septembre 2024, 10:00 – samedi 7 septembre 2024, 18:00, dimanche 8 septembre 2024, 10:00 – dimanche 8 septembre 2024, 18:00, lundi 9 septembre 2024, 10:00 – lundi 9 septembre 2024, 18:00, mardi 10 septembre 2024, 10:00 – mardi 10 septembre 2024, 18:00, mercredi 11 septembre 2024, 10:00 – mercredi 11 septembre 2024, 18:00, jeudi 12 septembre 2024, 10:00 – jeudi 12 septembre 2024, 18:00, vendredi 13 septembre 2024, 10:00 – vendredi 13 septembre 2024, 18:00, samedi 14 septembre 2024, 10:00 – samedi 14 septembre 2024, 18:00, dimanche 15 septembre 2024, 10:00 – dimanche 15 septembre 2024, 18:00, lundi 16 septembre 2024, 10:00 – lundi 16 septembre 2024, 18:00, mardi 17 septembre 2024, 10:00 – mardi 17 septembre 2024, 18:00, mercredi 18 septembre 2024, 10:00 – mercredi 18 septembre 2024, 18:00, jeudi 19 septembre 2024, 10:00 – jeudi 19 septembre 2024, 18:00, vendredi 20 septembre 2024, 10:00 – vendredi 20 septembre 2024, 18:00, samedi 21 septembre 2024, 10:00 – samedi 21 septembre 2024, 18:00, dimanche 22 septembre 2024, 10:00 – dimanche 22 septembre 2024, 18:00, lundi 23 septembre 2024, 10:00 – lundi 23 septembre 2024, 18:00, mardi 24 septembre 2024, 10:00 – mardi 24 septembre 2024, 18:00, mercredi 25 septembre 2024, 10:00 – mercredi 25 septembre 2024, 18:00, jeudi 26 septembre 2024, 10:00 – jeudi 26 septembre 2024, 18:00, vendredi 27 septembre 2024, 10:00 – vendredi 27 septembre 2024, 18:00, samedi 28 septembre 2024, 10:00 – samedi 28 septembre 2024, 18:00, dimanche 29 septembre 2024, 10:00 – dimanche 29 septembre 2024, 18:00, lundi 30 septembre 2024, 10:00 – lundi 30 septembre 2024, 18:00, mardi 1 octobre 2024, 10:00 – mardi 1 octobre 2024, 18:00, mercredi 2 octobre 2024, 10:00 – mercredi 2 octobre 2024, 18:00, jeudi 3 octobre 2024, 10:00 – jeudi 3 octobre 2024, 18:00, vendredi 4 octobre 2024, 10:00 – vendredi 4 octobre 2024, 18:00, samedi 5 octobre 2024, 10:00 – samedi 5 octobre 2024, 18:00, dimanche 6 octobre 2024, 10:00 – dimanche 6 octobre 2024, 18:00, lundi 7 octobre 2024, 10:00 – lundi 7 octobre 2024, 18:00, mardi 8 octobre 2024, 10:00 – mardi 8 octobre 2024, 18:00, mercredi 9 octobre 2024, 10:00 – mercredi 9 octobre 2024, 18:00, jeudi 10 octobre 2024, 10:00 – jeudi 10 octobre 2024, 18:00, vendredi 11 octobre 2024, 10:00 – vendredi 11 octobre 2024, 18:00, samedi 12 octobre 2024, 10:00 – samedi 12 octobre 2024, 18:00, dimanche 13 octobre 2024, 10:00 – dimanche 13 octobre 2024, 18:00, lundi 14 octobre 2024, 10:00 – lundi 14 octobre 2024, 18:00, mardi 15 octobre 2024, 10:00 – mardi 15 octobre 2024, 18:00, mercredi 16 octobre 2024, 10:00 – mercredi 16 octobre 2024, 18:00, jeudi 17 octobre 2024, 10:00 – jeudi 17 octobre 2024, 18:00, vendredi 18 octobre 2024, 10:00 – vendredi 18 octobre 2024, 18:00, samedi 19 octobre 2024, 10:00 – samedi 19 octobre 2024, 18:00, dimanche 20 octobre 2024, 10:00 – dimanche 20 octobre 2024, 18:00, lundi 21 octobre 2024, 10:00 – lundi 21 octobre 2024, 18:00, mardi 22 octobre 2024, 10:00 – mardi 22 octobre 2024, 18:00, mercredi 23 octobre 2024, 10:00 – mercredi 23 octobre 2024, 18:00, jeudi 24 octobre 2024, 10:00 – jeudi 24 octobre 2024, 18:00, vendredi 25 octobre 2024, 10:00 – vendredi 25 octobre 2024, 18:00, samedi 26 octobre 2024, 10:00 – samedi 26 octobre 2024, 18:00, dimanche 27 octobre 2024, 10:00 – dimanche 27 octobre 2024, 18:00, lundi 28 octobre 2024, 10:00 – lundi 28 octobre 2024, 18:00, mardi 29 octobre 2024, 10:00 – mardi 29 octobre 2024, 18:00, mercredi 30 octobre 2024, 10:00 – mercredi 30 octobre 2024, 18:00, jeudi 31 octobre 2024, 10:00 – jeudi 31 octobre 2024, 18:00, vendredi 1 novembre 2024, 10:00 – vendredi 1 novembre 2024, 18:00, samedi 2 novembre 2024, 10:00 – samedi 2 novembre 2024, 18:00, dimanche 3 novembre 2024, 10:00 – dimanche 3 novembre 2024, 18:00, lundi 4 novembre 2024, 10:00 – lundi 4 novembre 2024, 18:00, mardi 5 novembre 2024, 10:00 – mardi 5 novembre 2024, 18:00, mercredi 6 novembre 2024, 10:00 – mercredi 6 novembre 2024, 18:00, jeudi 7 novembre 2024, 10:00 – jeudi 7 novembre 2024, 18:00, vendredi 8 novembre 2024, 10:00 – vendredi 8 novembre 2024, 18:00, samedi 9 novembre 2024, 10:00 – samedi 9 novembre 2024, 18:00, dimanche 10 novembre 2024, 10:00 – dimanche 10 novembre 2024, 18:00, lundi 11 novembre 2024, 10:00 – lundi 11 novembre 2024, 18:00, mardi 12 novembre 2024, 10:00 – mardi 12 novembre 2024, 18:00, mercredi 13 novembre 2024, 10:00 – mercredi 13 novembre 2024, 18:00, jeudi 14 novembre 2024, 10:00 – jeudi 14 novembre 2024, 18:00, vendredi 15 novembre 2024, 10:00 – vendredi 15 novembre 2024, 18:00, samedi 16 novembre 2024, 10:00 – samedi 16 novembre 2024, 18:00, dimanche 17 novembre 2024, 10:00 – dimanche 17 novembre 2024, 18:00, lundi 18 novembre 2024, 10:00 – lundi 18 novembre 2024, 18:00, mardi 19 novembre 2024, 10:00 – mardi 19 novembre 2024, 18:00, mercredi 20 novembre 2024, 10:00 – mercredi 20 novembre 2024, 18:00, jeudi 21 novembre 2024, 10:00 – jeudi 21 novembre 2024, 18:00, vendredi 22 novembre 2024, 10:00 – vendredi 22 novembre 2024, 18:00, samedi 23 novembre 2024, 10:00 – samedi 23 novembre 2024, 18:00, dimanche 24 novembre 2024, 10:00 – dimanche 24 novembre 2024, 18:00, lundi 25 novembre 2024, 10:00 – lundi 25 novembre 2024, 18:00, mardi 26 novembre 2024, 10:00 – mardi 26 novembre 2024, 18:00, mercredi 27 novembre 2024, 10:00 – mercredi 27 novembre 2024, 18:00, jeudi 28 novembre 2024, 10:00 – jeudi 28 novembre 2024, 18:00, vendredi 29 novembre 2024, 10:00 – vendredi 29 novembre 2024, 18:00, samedi 30 novembre 2024, 10:00 – samedi 30 novembre 2024, 18:00, dimanche 1 décembre 2024, 10:00 – dimanche 1 décembre 2024, 18:00, lundi 2 décembre 2024, 10:00 – lundi 2 décembre 2024, 18:00, mardi 3 décembre 2024, 10:00 – mardi 3 décembre 2024, 18:00, mercredi 4 décembre 2024, 10:00 – mercredi 4 décembre 2024, 18:00, jeudi 5 décembre 2024, 10:00 – jeudi 5 décembre 2024, 18:00, vendredi 6 décembre 2024, 10:00 – vendredi 6 décembre 2024, 18:00, samedi 7 décembre 2024, 10:00 – samedi 7 décembre 2024, 18:00, dimanche 8 décembre 2024, 10:00 – dimanche 8 décembre 2024, 18:00, lundi 9 décembre 2024, 10:00 – lundi 9 décembre 2024, 18:00, mardi 10 décembre 2024, 10:00 – mardi 10 décembre 2024, 18:00, mercredi 11 décembre 2024, 10:00 – mercredi 11 décembre 2024, 18:00, jeudi 12 décembre 2024, 10:00 – jeudi 12 décembre 2024, 18:00, vendredi 13 décembre 2024, 10:00 – vendredi 13 décembre 2024, 18:00, samedi 14 décembre 2024, 10:00 – samedi 14 décembre 2024, 18:00, dimanche 15 décembre 2024, 10:00 – dimanche 15 décembre 2024, 18:00, lundi 16 décembre 2024, 10:00 – lundi 16 décembre 2024, 18:00, mardi 17 décembre 2024, 10:00 – mardi 17 décembre 2024, 18:00, mercredi 18 décembre 2024, 10:00 – mercredi 18 décembre 2024, 18:00, jeudi 19 décembre 2024, 10:00 – jeudi 19 décembre 2024, 18:00, vendredi 20 décembre 2024, 10:00 – vendredi 20 décembre 2024, 18:00, samedi 21 décembre 2024, 10:00 – samedi 21 décembre 2024, 18:00, dimanche 22 décembre 2024, 10:00 – dimanche 22 décembre 2024, 18:00, lundi 23 décembre 2024, 10:00 – lundi 23 décembre 2024, 18:00, jeudi 26 décembre 2024, 10:00 – jeudi 26 décembre 2024, 18:00, vendredi 27 décembre 2024, 10:00 – vendredi 27 décembre 2024, 18:00, samedi 28 décembre 2024, 10:00 – samedi 28 décembre 2024, 18:00, dimanche 29 décembre 2024, 10:00 – dimanche 29 décembre 2024, 18:00, lundi 30 décembre 2024, 10:00 – lundi 30 décembre 2024, 18:00\n",
      "\n",
      "Visites guidées - Festival Musique et Patrimoine 2024\n",
      "Des visites de l'église abbatiale de Saint-Savin ou de l'église de Saulgé et de l'exposition Audacieux XIXe siècle ; organisées dans le cadre du Festival Musique et Patrimoine 2024.\n",
      "Adresse : Place de la libération 86310 Saint-Savin\n",
      "Dates : mardi 16 juillet 2024, 18:00 – mardi 16 juillet 2024, 18:35, jeudi 18 juillet 2024, 18:00 – jeudi 18 juillet 2024, 18:35, vendredi 19 juillet 2024, 18:00 – vendredi 19 juillet 2024, 18:35, jeudi 25 juillet 2024, 18:00 – jeudi 25 juillet 2024, 18:30\n",
      "\n",
      "Concours de Pétanque\n",
      "Concours de Pétanque\n",
      "Adresse : 86390 LATHUS ST REMY\n",
      "Dates : dimanche 23 juin 2024, 14:00 – dimanche 23 juin 2024, 23:59\n",
      "\n"
     ]
    }
   ],
   "source": [
    "corpus = [get_embedding_text(doc) for doc in docs]\n",
    "for i in range(10):\n",
    "    print(corpus[i])\n",
    "    print()"
   ]
  },
  {
   "cell_type": "code",
   "execution_count": null,
   "id": "ff4863ba",
   "metadata": {},
   "outputs": [
    {
     "name": "stderr",
     "output_type": "stream",
     "text": [
      "Batches:  88%|████████▊ | 192/217 [55:36<05:07, 12.29s/it] "
     ]
    }
   ],
   "source": [
    "import faiss\n",
    "import numpy as np\n",
    "\n",
    "# Step 1: Create corpus\n",
    "corpus = [get_embedding_text(doc) for doc in docs]\n",
    "\n",
    "# Step 2: Encode with normalization (L2 norm = 1)\n",
    "embeddings = model.encode(corpus, show_progress_bar=True, normalize_embeddings=True)\n",
    "\n",
    "# Step 3: Use FAISS Index for inner product (cosine similarity when vectors are normalized)\n",
    "dimension = embeddings.shape[1]\n",
    "index = faiss.IndexFlatIP(dimension) \n",
    "index.add(np.array(embeddings))\n",
    "\n",
    "# Store the original docs for retrieval later\n",
    "id_to_doc = {i: doc for i, doc in enumerate(docs)}\n"
   ]
  },
  {
   "cell_type": "code",
   "execution_count": 165,
   "id": "59ad08d9",
   "metadata": {},
   "outputs": [
    {
     "name": "stdout",
     "output_type": "stream",
     "text": [
      "Découverte du musée des vieux outils de Brie\n",
      "Visite commentée, métier par métier. Puis libre circulation et réponses aux questions.\n",
      "Dates : dimanche 22 septembre 2024, 10:00 – 12:00\n"
     ]
    }
   ],
   "source": [
    "print(corpus[5500])"
   ]
  },
  {
   "cell_type": "code",
   "execution_count": 166,
   "id": "53dc490c",
   "metadata": {},
   "outputs": [
    {
     "data": {
      "text/plain": [
       "\"Explorez les rues de Collonges-la-Rouge accompagnés d'un guide !\\nLaissez-vous conter l’histoire et les légendes surprenantes de Collonges-la-Rouge au cours d'une visite guidée gratuite dans les ruelles de la ville.\\nDates : dimanche 22 septembre 2024, 10:30 – 12:00, dimanche 22 septembre 2024, 15:00 – 16:30\""
      ]
     },
     "execution_count": 166,
     "metadata": {},
     "output_type": "execute_result"
    }
   ],
   "source": [
    "corpus[0]"
   ]
  },
  {
   "cell_type": "code",
   "execution_count": null,
   "id": "71f10c4c",
   "metadata": {},
   "outputs": [],
   "source": [
    "def search_documents(query, k=5):\n",
    "    query_embedding = model.encode([query], normalize_embeddings=True)\n",
    "    distances, indices = index.search(query_embedding, k)\n",
    "    results = [id_to_doc[idx] for idx in indices[0]]\n",
    "    return results\n"
   ]
  },
  {
   "cell_type": "code",
   "execution_count": null,
   "id": "cfbbc146",
   "metadata": {},
   "outputs": [],
   "source": [
    "def format_for_chatbot(doc):\n",
    "    return (\n",
    "        f\"**{doc['titre']}**\\n\"\n",
    "        f\"{doc['description']}\\n\\n\"\n",
    "        # f\"{doc['longue description']}\\n\\n\"\n",
    "        f\"📍 Adresse : {doc['adresse']}\\n\"\n",
    "        f\"📅 Dates : {', '.join(doc['dates affichage'])}\\n\"\n",
    "        # f\"💰 Prix : {doc['prix']}\\n\"\n",
    "        # f\"📞 Téléphone : {doc['telephone'] or 'Non fourni'}\\n\"\n",
    "        # f\"🌐 Site Web : {doc['site Web'] or 'Non fourni'}\"\n",
    "    )\n"
   ]
  },
  {
   "cell_type": "code",
   "execution_count": 169,
   "id": "d1bb61ea",
   "metadata": {},
   "outputs": [],
   "source": [
    "query = \"Je veux un événement avec dégustation de vin en septembre\"\n",
    "results = search_documents(query)\n",
    "\n",
    "for doc in results:\n",
    "    result = format_for_chatbot(doc)\n"
   ]
  },
  {
   "cell_type": "code",
   "execution_count": 170,
   "id": "2bb5a3fc",
   "metadata": {},
   "outputs": [
    {
     "name": "stdout",
     "output_type": "stream",
     "text": [
      "**Dégustation au Bureau d'Information Touristique de Saint-Savin**\n",
      "Dégustation Surprise\n",
      "\n",
      "📅 Dates : vendredi 2 août 2024, 10:30 – 12:30\n",
      "\n"
     ]
    }
   ],
   "source": [
    "print(format_for_chatbot(results[0]))"
   ]
  },
  {
   "cell_type": "code",
   "execution_count": 171,
   "id": "1d0473b8",
   "metadata": {},
   "outputs": [],
   "source": [
    "query = \"manga\"\n",
    "results = search_documents(query)\n",
    "\n",
    "for doc in results:\n",
    "    result = format_for_chatbot(doc)\n"
   ]
  },
  {
   "cell_type": "code",
   "execution_count": 172,
   "id": "67ca980e",
   "metadata": {},
   "outputs": [
    {
     "name": "stdout",
     "output_type": "stream",
     "text": [
      "**Performance et lecture**\n",
      "Expérience sonore, immersive et poétique à travers l’aile Bonheur.\n",
      "\n",
      "📅 Dates : samedi 21 septembre 2024, 15:30 – 16:00, dimanche 22 septembre 2024, 17:15 – 17:45\n",
      "\n"
     ]
    }
   ],
   "source": [
    "print(format_for_chatbot(results[0]))"
   ]
  },
  {
   "cell_type": "code",
   "execution_count": null,
   "id": "a23b56b8",
   "metadata": {},
   "outputs": [],
   "source": [
    "import faiss\n",
    "import json\n",
    "import numpy as np\n",
    "import os\n",
    "\n",
    "def save_project(index, docs, model_name, path=\"model3\"):\n",
    "    os.makedirs(path, exist_ok=True)\n",
    "    \n",
    "    # Save FAISS index\n",
    "    faiss.write_index(index, os.path.join(path, \"index_faiss.bin\"))\n",
    "    \n",
    "    # Save documents\n",
    "    with open(os.path.join(path, \"documents.json\"), \"w\", encoding=\"utf-8\") as f:\n",
    "        json.dump(docs, f, ensure_ascii=False, indent=2, default=str)\n",
    "    \n",
    "    # Save metadata (model name)\n",
    "    with open(os.path.join(path, \"meta.json\"), \"w\", encoding=\"utf-8\") as f:\n",
    "        json.dump({\"model\": model_name}, f, ensure_ascii=False, indent=2)\n",
    "\n",
    "    print(f\"✅ Project saved to folder: {path}\")\n"
   ]
  },
  {
   "cell_type": "code",
   "execution_count": null,
   "id": "6e3550e4",
   "metadata": {},
   "outputs": [
    {
     "name": "stdout",
     "output_type": "stream",
     "text": [
      "✅ Project saved to folder: model2\n"
     ]
    }
   ],
   "source": [
    "save_project(index, docs, \"dangvantuan/sentence-camembert-base\", path=\"model3\")"
   ]
  }
 ],
 "metadata": {
  "kernelspec": {
   "display_name": ".venv",
   "language": "python",
   "name": "python3"
  },
  "language_info": {
   "codemirror_mode": {
    "name": "ipython",
    "version": 3
   },
   "file_extension": ".py",
   "mimetype": "text/x-python",
   "name": "python",
   "nbconvert_exporter": "python",
   "pygments_lexer": "ipython3",
   "version": "3.10.0"
  }
 },
 "nbformat": 4,
 "nbformat_minor": 5
}
